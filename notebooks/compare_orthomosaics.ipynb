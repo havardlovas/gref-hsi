{
 "cells": [
  {
   "cell_type": "code",
   "execution_count": 4,
   "metadata": {},
   "outputs": [],
   "source": [
    "import os\n",
    "from osgeo import gdal\n",
    "import numpy as np\n",
    "from gref4hsi.utils.colours import Image as Imcol\n",
    "from gref4hsi.utils.gis_tools import GeoSpatialAbstractionHSI"
   ]
  },
  {
   "cell_type": "code",
   "execution_count": null,
   "metadata": {},
   "outputs": [],
   "source": [
    "\n"
   ]
  },
  {
   "cell_type": "code",
   "execution_count": 5,
   "metadata": {},
   "outputs": [],
   "source": [
    "\n",
    "ref_ortho_reshaped_path = os.path.join(r\"D:\\Specim\\Missions\\2022-08-31-Remoy\", 'orthomosaic_cropped.tif')\n",
    "match_composite_path = os.path.join(r\"D:\\Specim\\Missions\\2022-08-31-Remoy\", 'orthomosaic_cropped_high_tide.tif')\n",
    "\n",
    "do_something = False\n",
    "\n",
    "if do_something:\n",
    "    fname_low = os.path.join(r\"C:\\Users\\haavasl\\OneDrive - NTNU\\GeoHab\\Figures\", '0800_full.tif')\n",
    "    fname_mid = os.path.join(r\"C:\\Users\\haavasl\\OneDrive - NTNU\\GeoHab\\Figures\", '1040_full.tif')\n",
    "    fname_high = os.path.join(r\"C:\\Users\\haavasl\\OneDrive - NTNU\\GeoHab\\Figures\", '1435_full.tif')\n",
    "\n",
    "    # Coreg equivalent\n",
    "    fname_low = os.path.join(r\"C:\\Users\\haavasl\\OneDrive - NTNU\\GeoHab\\Figures\", '0800_full_coreg.tif')\n",
    "    fname_mid = os.path.join(r\"C:\\Users\\haavasl\\OneDrive - NTNU\\GeoHab\\Figures\", '1040_full_coreg.tif')\n",
    "    fname_high = os.path.join(r\"C:\\Users\\haavasl\\OneDrive - NTNU\\GeoHab\\Figures\", '1435_full_coreg.tif')\n",
    "\n",
    "    ref_ortho_path = fname_low\n",
    "    match_composite_path = fname_high\n",
    "\n",
    "    ref_ortho_reshaped_path = os.path.join(r'C:\\Users\\haavasl', 'temp_tif.tif')\n",
    "\n",
    "    print(ref_ortho_reshaped_path)\n",
    "    os.remove(ref_ortho_reshaped_path)\n",
    "\n",
    "    GeoSpatialAbstractionHSI.resample_rgb_ortho_to_hsi_ortho(ref_ortho_path, match_composite_path, ref_ortho_reshaped_path)\n"
   ]
  },
  {
   "cell_type": "code",
   "execution_count": 6,
   "metadata": {},
   "outputs": [],
   "source": [
    "# The ref orthomosaic after reshaping (the reference)\n",
    "raster_ref = gdal.Open(ref_ortho_reshaped_path, gdal.GA_Update)\n",
    "xoff1, a1, b1, yoff1, d1, e1 = raster_ref.GetGeoTransform()  # This should be equal\n",
    "raster_ref_array = np.array(raster_ref.ReadAsArray())\n",
    "R = raster_ref_array[0, :, :].reshape((raster_ref_array.shape[1], raster_ref_array.shape[2], 1))\n",
    "G = raster_ref_array[1, :, :].reshape((raster_ref_array.shape[1], raster_ref_array.shape[2], 1))\n",
    "B = raster_ref_array[2, :, :].reshape((raster_ref_array.shape[1], raster_ref_array.shape[2], 1))\n",
    "# del raster_array1\n",
    "ortho_ref = np.concatenate((R, G, B), axis=2)\n",
    "ref_image = Imcol(ortho_ref)"
   ]
  },
  {
   "cell_type": "code",
   "execution_count": 7,
   "metadata": {},
   "outputs": [],
   "source": [
    "# The match composite raster (the match)\n",
    "raster_match = gdal.Open(match_composite_path)\n",
    "raster_match_array = np.array(raster_match.ReadAsArray())\n",
    "xoff2, a2, b2, yoff2, d2, e2 = raster_match.GetGeoTransform()\n",
    "transform_pixel_projected = raster_match.GetGeoTransform()\n",
    "R = raster_match_array[0, :, :].reshape((raster_match_array.shape[1], raster_match_array.shape[2], 1))\n",
    "G = raster_match_array[1, :, :].reshape((raster_match_array.shape[1], raster_match_array.shape[2], 1))\n",
    "B = raster_match_array[2, :, :].reshape((raster_match_array.shape[1], raster_match_array.shape[2], 1))\n",
    "ortho_match = np.concatenate((R, G, B), axis=2)\n",
    "match_image = Imcol(ortho_match)"
   ]
  },
  {
   "cell_type": "code",
   "execution_count": 8,
   "metadata": {},
   "outputs": [
    {
     "name": "stdout",
     "output_type": "stream",
     "text": [
      "18008\n"
     ]
    }
   ],
   "source": [
    "from gref4hsi.utils.gis_tools import GeoSpatialAbstractionHSI\n",
    "# Do some image processing here\n",
    "match_image.clahe_adjustment()\n",
    "ref_image.clahe_adjustment()\n",
    "\n",
    "ref_image.to_luma(gamma=False, image_array= ref_image.clahe_adjusted)\n",
    "match_image.to_luma(gamma=False, image_array= match_image.clahe_adjusted)\n",
    "\n",
    "\n",
    "\n",
    "\n",
    "\n",
    "uv_vec_match, uv_vec_ref, diff_AE_pixels = GeoSpatialAbstractionHSI.compute_sift_difference(match_image.luma_array, ref_image.luma_array)"
   ]
  },
  {
   "cell_type": "code",
   "execution_count": 9,
   "metadata": {},
   "outputs": [
    {
     "name": "stdout",
     "output_type": "stream",
     "text": [
      "9.537728563699968\n",
      "7.2058019233947865\n",
      "12862\n",
      "3.9807675895308217\n"
     ]
    }
   ],
   "source": [
    "resolution = a1*100 # In cm\n",
    "\n",
    "print(np.mean(diff_AE_pixels[diff_AE_pixels<100])*resolution)\n",
    "print(np.median(diff_AE_pixels[diff_AE_pixels<100])*resolution)\n",
    "\n",
    "err = (uv_vec_match[diff_AE_pixels<20] - uv_vec_ref[diff_AE_pixels<20])*resolution\n",
    "med_shift = np.median(err, axis = 0)\n",
    "\n",
    "print(err.shape[0])\n",
    "err_shifted = err - med_shift\n",
    "\n",
    "abs_err_shift = np.abs(err_shifted)\n",
    "print(np.median(abs_err_shift))\n",
    "#med_shift = np.median(uv_vec_match[diff_AE_pixels<10] - uv_vec_ref[diff_AE_pixels<10], axis = 0)\n",
    "#print()\n",
    "\n",
    "\n",
    "#print()"
   ]
  },
  {
   "cell_type": "code",
   "execution_count": null,
   "metadata": {},
   "outputs": [],
   "source": []
  }
 ],
 "metadata": {
  "kernelspec": {
   "display_name": "Python 3",
   "language": "python",
   "name": "python3"
  },
  "language_info": {
   "codemirror_mode": {
    "name": "ipython",
    "version": 3
   },
   "file_extension": ".py",
   "mimetype": "text/x-python",
   "name": "python",
   "nbconvert_exporter": "python",
   "pygments_lexer": "ipython3",
   "version": "3.8.18"
  }
 },
 "nbformat": 4,
 "nbformat_minor": 2
}
