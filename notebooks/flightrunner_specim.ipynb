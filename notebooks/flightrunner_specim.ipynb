{
 "cells": [
  {
   "cell_type": "code",
   "execution_count": 1,
   "id": "0af93a87-9797-40fe-8a5f-b32002207169",
   "metadata": {},
   "outputs": [
    {
     "name": "stdout",
     "output_type": "stream",
     "text": [
      "Jupyter environment detected. Enabling Open3D WebVisualizer.\n",
      "[Open3D INFO] WebRTC GUI backend enabled.\n",
      "[Open3D INFO] WebRTCWindowSystem: HTTP handshake server disabled.\n"
     ]
    }
   ],
   "source": [
    "# Standard python library\n",
    "import configparser\n",
    "import sys\n",
    "import os\n",
    "import argparse\n",
    "from collections import namedtuple\n",
    "\n",
    "# Local resources\n",
    "from gref4hsi.scripts import georeference\n",
    "from gref4hsi.scripts import orthorectification\n",
    "from gref4hsi.utils import parsing_utils, specim_parsing_utils\n",
    "from gref4hsi.scripts import visualize\n",
    "from gref4hsi.utils.config_utils import prepend_data_dir_to_relative_paths\n",
    "from gref4hsi.utils.config_utils import customize_config\n",
    "\n",
    "# Third party\n",
    "import numpy as np"
   ]
  },
  {
   "cell_type": "code",
   "execution_count": 2,
   "id": "07bb1fea-0c10-4e2a-9431-22b74b638ddb",
   "metadata": {},
   "outputs": [],
   "source": [
    "# From seabeepy/notebooks/flight_runner\n",
    "import datetime as dt\n",
    "import os\n",
    "from pathlib import Path\n",
    "\n",
    "from config import SETTINGS\n",
    "from pyodm import Node\n",
    "from subprocess import CalledProcessError\n",
    "\n",
    "import seabeepy as sb\n"
   ]
  },
  {
   "cell_type": "code",
   "execution_count": 3,
   "id": "c9f66eef-7fbd-4efd-9cbe-91007d1c6917",
   "metadata": {
    "jupyter": {
     "source_hidden": true
    },
    "tags": []
   },
   "outputs": [],
   "source": [
    "# Establish iterable parent directories"
   ]
  },
  {
   "cell_type": "code",
   "execution_count": 4,
   "id": "9fe9281e-4706-4e06-b944-dfd7c783d93d",
   "metadata": {},
   "outputs": [],
   "source": [
    "# Parent directories containing flight folders to process\n",
    "base_dirs = [\n",
    "    r\"/home/notebook/shared-seabee-ns9879k/ntnu\",\n",
    "]\n",
    "\n",
    "# Directory for temporary files\n",
    "temp_dir = r\"/home/notebook/cogs/\""
   ]
  },
  {
   "cell_type": "code",
   "execution_count": 5,
   "id": "671c7d5b-d8f8-429b-9cd8-afd9f46b8ce0",
   "metadata": {},
   "outputs": [
    {
     "name": "stdout",
     "output_type": "stream",
     "text": [
      "Processing started: 2024-03-12 13:15:15.144997\n"
     ]
    }
   ],
   "source": [
    "# Run info\n",
    "run_date = dt.datetime.today()\n",
    "print(f\"Processing started: {run_date}\")"
   ]
  },
  {
   "cell_type": "code",
   "execution_count": 6,
   "id": "77ca6de5-e204-43fd-998c-53a8e68876f4",
   "metadata": {},
   "outputs": [],
   "source": [
    "# Get all potential mission folders for NodeODM\n",
    "# (i.e. folders containing a 'config.seabee.yaml' and an 'capture' subdirectory, but NOT an 'orthophoto' directory)\n",
    "mission_list = [\n",
    "    f.parent\n",
    "    for base_dir in base_dirs\n",
    "    for f in Path(base_dir).rglob(\"config.seabee.yaml\")\n",
    "    if sb.ortho.check_subdir_exists(f.parent, \"capture\")\n",
    "    and not sb.ortho.check_subdir_exists(f.parent, \"processed\")\n",
    "]"
   ]
  },
  {
   "cell_type": "code",
   "execution_count": 7,
   "id": "914cbf91-d613-4f3d-9c2a-ab404424f2be",
   "metadata": {},
   "outputs": [
    {
     "data": {
      "text/plain": [
       "[PosixPath('/home/notebook/shared-seabee-ns9879k/ntnu/2024/slettvik_seaside-straumen_202402191358_ntnu_hyperspectral_74m'),\n",
       " PosixPath('/home/notebook/shared-seabee-ns9879k/ntnu/2024/slettvik_hopavaagen_202402191311_ntnu_hyperspectral_74m'),\n",
       " PosixPath('/home/notebook/shared-seabee-ns9879k/ntnu/2024/slettvik_hopavaagen_202402191253_ntnu_hyperspectral_74m')]"
      ]
     },
     "execution_count": 7,
     "metadata": {},
     "output_type": "execute_result"
    }
   ],
   "source": [
    "mission_list"
   ]
  },
  {
   "cell_type": "code",
   "execution_count": 8,
   "id": "aec010b3-a209-4291-b465-cb4f295b6e85",
   "metadata": {},
   "outputs": [],
   "source": [
    "# Establish the ancillary data paths\n"
   ]
  },
  {
   "cell_type": "code",
   "execution_count": 9,
   "id": "bf2cf748-2313-49e9-b535-9f1b56abc48e",
   "metadata": {},
   "outputs": [
    {
     "name": "stdout",
     "output_type": "stream",
     "text": [
      "\n",
      "################\n",
      "Processing: slettvik_seaside-straumen_202402191358_ntnu_hyperspectral_74m\n"
     ]
    },
    {
     "ename": "TypeError",
     "evalue": "main() missing 2 required positional arguments: 'EPSG_CODE' and 'RESOLUTION_ORTHOMOSAIC'",
     "output_type": "error",
     "traceback": [
      "\u001b[0;31m---------------------------------------------------------------------------\u001b[0m",
      "\u001b[0;31mTypeError\u001b[0m                                 Traceback (most recent call last)",
      "Cell \u001b[0;32mIn [9], line 8\u001b[0m\n\u001b[1;32m      6\u001b[0m \u001b[38;5;28mprint\u001b[39m(\u001b[38;5;124mf\u001b[39m\u001b[38;5;124m\"\u001b[39m\u001b[38;5;130;01m\\n\u001b[39;00m\u001b[38;5;124m################\u001b[39m\u001b[38;5;130;01m\\n\u001b[39;00m\u001b[38;5;124mProcessing: \u001b[39m\u001b[38;5;132;01m{\u001b[39;00mmission_name\u001b[38;5;132;01m}\u001b[39;00m\u001b[38;5;124m\"\u001b[39m)\n\u001b[1;32m      7\u001b[0m conf_yaml \u001b[38;5;241m=\u001b[39m os\u001b[38;5;241m.\u001b[39mpath\u001b[38;5;241m.\u001b[39mjoin(mission_fold, \u001b[38;5;124m\"\u001b[39m\u001b[38;5;124mconfig.seabee.yaml\u001b[39m\u001b[38;5;124m\"\u001b[39m)\n\u001b[0;32m----> 8\u001b[0m \u001b[43mspecim_process\u001b[49m\u001b[38;5;241;43m.\u001b[39;49m\u001b[43mmain\u001b[49m\u001b[43m(\u001b[49m\u001b[43mconf_yaml\u001b[49m\u001b[43m)\u001b[49m\n",
      "\u001b[0;31mTypeError\u001b[0m: main() missing 2 required positional arguments: 'EPSG_CODE' and 'RESOLUTION_ORTHOMOSAIC'"
     ]
    }
   ],
   "source": [
    "import specim_process\n",
    "\n",
    "# Process missions\n",
    "for mission_fold in mission_list:\n",
    "    mission_name = mission_fold.name\n",
    "    print(f\"\\n################\\nProcessing: {mission_name}\")\n",
    "    conf_yaml = os.path.join(mission_fold, \"config.seabee.yaml\")\n",
    "    specim_process.main(conf_yaml, mission_fold)"
   ]
  },
  {
   "cell_type": "code",
   "execution_count": null,
   "id": "fbf538cb-a883-45ac-b225-c8fe22656b45",
   "metadata": {},
   "outputs": [],
   "source": []
  }
 ],
 "metadata": {
  "kernelspec": {
   "display_name": "Python 3 (ipykernel)",
   "language": "python",
   "name": "python3"
  },
  "language_info": {
   "codemirror_mode": {
    "name": "ipython",
    "version": 3
   },
   "file_extension": ".py",
   "mimetype": "text/x-python",
   "name": "python",
   "nbconvert_exporter": "python",
   "pygments_lexer": "ipython3",
   "version": "3.10.6"
  }
 },
 "nbformat": 4,
 "nbformat_minor": 5
}
