{
 "cells": [
  {
   "cell_type": "code",
   "execution_count": 1,
   "id": "0af93a87-9797-40fe-8a5f-b32002207169",
   "metadata": {},
   "outputs": [
    {
     "name": "stdout",
     "output_type": "stream",
     "text": [
      "Jupyter environment detected. Enabling Open3D WebVisualizer.\n",
      "[Open3D INFO] WebRTC GUI backend enabled.\n",
      "[Open3D INFO] WebRTCWindowSystem: HTTP handshake server disabled.\n"
     ]
    }
   ],
   "source": [
    "# Standard python library\n",
    "import configparser\n",
    "import sys\n",
    "import os\n",
    "import argparse\n",
    "from collections import namedtuple\n",
    "\n",
    "# Local resources\n",
    "from gref4hsi.scripts import georeference\n",
    "from gref4hsi.scripts import orthorectification\n",
    "from gref4hsi.utils import parsing_utils, specim_parsing_utils\n",
    "from gref4hsi.scripts import visualize\n",
    "from gref4hsi.utils.config_utils import prepend_data_dir_to_relative_paths\n",
    "from gref4hsi.utils.config_utils import customize_config\n",
    "\n",
    "# Third party\n",
    "import numpy as np"
   ]
  },
  {
   "cell_type": "code",
   "execution_count": 2,
   "id": "07bb1fea-0c10-4e2a-9431-22b74b638ddb",
   "metadata": {},
   "outputs": [],
   "source": [
    "# From seabeepy/notebooks/flight_runner\n",
    "import datetime as dt\n",
    "import os\n",
    "from pathlib import Path\n",
    "\n",
    "from config import SETTINGS\n",
    "from pyodm import Node\n",
    "from subprocess import CalledProcessError\n",
    "\n",
    "import seabeepy as sb\n"
   ]
  },
  {
   "cell_type": "code",
   "execution_count": 3,
   "id": "c9f66eef-7fbd-4efd-9cbe-91007d1c6917",
   "metadata": {
    "tags": []
   },
   "outputs": [],
   "source": [
    "\n",
    "\n",
    "# Login to MinIO\n",
    "minio_client = sb.storage.minio_login(\n",
    "    user=SETTINGS.MINIO_ACCESS_ID, password=SETTINGS.MINIO_SECRET_KEY\n",
    ")\n",
    "\n"
   ]
  },
  {
   "cell_type": "code",
   "execution_count": 15,
   "id": "9fe9281e-4706-4e06-b944-dfd7c783d93d",
   "metadata": {},
   "outputs": [],
   "source": [
    "# Parent directories containing flight folders to process\n",
    "base_dirs = [\n",
    "    r\"/home/notebook/shared-seabee-ns9879k/ntnu\",\n",
    "]\n",
    "\n",
    "# Directory for temporary files\n",
    "temp_dir = r\"/home/notebook/cogs/\""
   ]
  },
  {
   "cell_type": "code",
   "execution_count": 5,
   "id": "671c7d5b-d8f8-429b-9cd8-afd9f46b8ce0",
   "metadata": {},
   "outputs": [
    {
     "name": "stdout",
     "output_type": "stream",
     "text": [
      "Processing started: 2024-03-12 14:20:22.042685\n"
     ]
    }
   ],
   "source": [
    "# Run info\n",
    "run_date = dt.datetime.today()\n",
    "print(f\"Processing started: {run_date}\")"
   ]
  },
  {
   "cell_type": "code",
   "execution_count": 6,
   "id": "77ca6de5-e204-43fd-998c-53a8e68876f4",
   "metadata": {},
   "outputs": [],
   "source": [
    "# Get all potential mission folders for NodeODM\n",
    "# (i.e. folders containing a 'config.seabee.yaml' and an 'capture' subdirectory, but NOT an 'orthophoto' directory)\n",
    "mission_list = [\n",
    "    f.parent\n",
    "    for base_dir in base_dirs\n",
    "    for f in Path(base_dir).rglob(\"config.seabee.yaml\")\n",
    "    if sb.ortho.check_subdir_exists(f.parent, \"capture\")\n",
    "    and not sb.ortho.check_subdir_exists(f.parent, \"processed\")\n",
    "]"
   ]
  },
  {
   "cell_type": "code",
   "execution_count": 7,
   "id": "914cbf91-d613-4f3d-9c2a-ab404424f2be",
   "metadata": {},
   "outputs": [
    {
     "data": {
      "text/plain": [
       "[PosixPath('/home/notebook/shared-seabee-ns9879k/ntnu/2024/slettvik_seaside-straumen_202402191358_ntnu_hyperspectral_74m'),\n",
       " PosixPath('/home/notebook/shared-seabee-ns9879k/ntnu/2024/slettvik_hopavaagen_202402191311_ntnu_hyperspectral_74m'),\n",
       " PosixPath('/home/notebook/shared-seabee-ns9879k/ntnu/2024/slettvik_hopavaagen_202402191253_ntnu_hyperspectral_74m')]"
      ]
     },
     "execution_count": 7,
     "metadata": {},
     "output_type": "execute_result"
    }
   ],
   "source": [
    "mission_list"
   ]
  },
  {
   "cell_type": "code",
   "execution_count": 20,
   "id": "aec010b3-a209-4291-b465-cb4f295b6e85",
   "metadata": {},
   "outputs": [
    {
     "data": {
      "text/plain": [
       "PosixPath('/home/notebook/shared-seabee-ns9879k/ntnu/specim_processing_data/Lab_Calibrations')"
      ]
     },
     "execution_count": 20,
     "metadata": {},
     "output_type": "execute_result"
    }
   ],
   "source": [
    "# Establish the ancillary data paths\n",
    "from pathlib import Path\n",
    "\n",
    "geoid_path = Path('/home/notebook/shared-seabee-ns9879k/ntnu/specim_processing_data/geoids/no_kv_HREF2018A_NN2000_EUREF89.tif')\n",
    "config_template_path ='/home/notebook/shared-seabee-ns9879k/ntnu/specim_processing_data/configuration_specim.ini'\n",
    "lab_calibration_path = Path('/home/notebook/shared-seabee-ns9879k/ntnu/specim_processing_data/Lab_Calibrations')\n"
   ]
  },
  {
   "cell_type": "code",
   "execution_count": 30,
   "id": "c90368c8-8fea-4ca9-bab2-ad9ecd1bed56",
   "metadata": {},
   "outputs": [
    {
     "ename": "OSError",
     "evalue": "Could not identify destination '/home/notebook/cogs/Lab_Calibrations_Copy' on MinIO.",
     "output_type": "error",
     "traceback": [
      "\u001b[0;31m---------------------------------------------------------------------------\u001b[0m",
      "\u001b[0;31mOSError\u001b[0m                                   Traceback (most recent call last)",
      "Cell \u001b[0;32mIn [30], line 23\u001b[0m\n\u001b[1;32m      9\u001b[0m lab_calibration_path_local \u001b[38;5;241m=\u001b[39m os\u001b[38;5;241m.\u001b[39mpath\u001b[38;5;241m.\u001b[39mjoin(temp_dir, \u001b[38;5;124m\"\u001b[39m\u001b[38;5;124mlab-calibration\u001b[39m\u001b[38;5;124m\"\u001b[39m)\n\u001b[1;32m     12\u001b[0m \u001b[38;5;66;03m# Example copy from/to MINIO works\u001b[39;00m\n\u001b[1;32m     13\u001b[0m \u001b[38;5;66;03m#sb.storage.copy_file('/home/notebook/shared-seabee-ns9879k/ntnu/specim_processing_data/configuration_specim.ini', \u001b[39;00m\n\u001b[1;32m     14\u001b[0m \u001b[38;5;66;03m#                      '/home/notebook/shared-seabee-ns9879k/ntnu/specim_processing_data/configuration_specim_copy.ini', minio_client, overwrite=False)\u001b[39;00m\n\u001b[0;32m   (...)\u001b[0m\n\u001b[1;32m     20\u001b[0m \u001b[38;5;66;03m#sb.storage.copy_file('/home/notebook/shared-seabee-ns9879k/ntnu/specim_processing_data/configuration_specim.ini', \u001b[39;00m\n\u001b[1;32m     21\u001b[0m \u001b[38;5;66;03m#                     '/home/notebook/cogs/configuration_specim_copy.ini', minio_client, overwrite=False)\u001b[39;00m\n\u001b[0;32m---> 23\u001b[0m \u001b[43msb\u001b[49m\u001b[38;5;241;43m.\u001b[39;49m\u001b[43mstorage\u001b[49m\u001b[38;5;241;43m.\u001b[39;49m\u001b[43mcopy_folder\u001b[49m\u001b[43m(\u001b[49m\u001b[38;5;124;43m'\u001b[39;49m\u001b[38;5;124;43m/home/notebook/shared-seabee-ns9879k/ntnu/specim_processing_data/Lab_Calibrations\u001b[39;49m\u001b[38;5;124;43m'\u001b[39;49m\u001b[43m,\u001b[49m\u001b[43m \u001b[49m\n\u001b[1;32m     24\u001b[0m \u001b[43m                       \u001b[49m\u001b[38;5;124;43m'\u001b[39;49m\u001b[38;5;124;43m/home/notebook/cogs/Lab_Calibrations_Copy\u001b[39;49m\u001b[38;5;124;43m'\u001b[39;49m\u001b[43m,\u001b[49m\u001b[43m \u001b[49m\u001b[43mminio_client\u001b[49m\u001b[43m,\u001b[49m\u001b[43m \u001b[49m\u001b[43moverwrite\u001b[49m\u001b[38;5;241;43m=\u001b[39;49m\u001b[38;5;28;43;01mFalse\u001b[39;49;00m\u001b[43m)\u001b[49m\n\u001b[1;32m     27\u001b[0m \u001b[38;5;66;03m#specim_process.main(str(config_yaml), str(specim_mission_folder), geoid_path, config_template_path, lab_calibration_path)\u001b[39;00m\n",
      "File \u001b[0;32m/opt/conda/lib/python3.10/site-packages/seabeepy/storage.py:179\u001b[0m, in \u001b[0;36mcopy_folder\u001b[0;34m(src_fold, dst_fold, client, overwrite, containing_folder)\u001b[0m\n\u001b[1;32m    176\u001b[0m dst_bucket, dst_name \u001b[38;5;241m=\u001b[39m _jhub_path_to_minio(dst_fold)\n\u001b[1;32m    178\u001b[0m \u001b[38;5;28;01mif\u001b[39;00m dst_bucket \u001b[38;5;129;01mis\u001b[39;00m \u001b[38;5;28;01mNone\u001b[39;00m:\n\u001b[0;32m--> 179\u001b[0m     \u001b[38;5;28;01mraise\u001b[39;00m \u001b[38;5;167;01mOSError\u001b[39;00m(\u001b[38;5;124mf\u001b[39m\u001b[38;5;124m\"\u001b[39m\u001b[38;5;124mCould not identify destination \u001b[39m\u001b[38;5;124m'\u001b[39m\u001b[38;5;132;01m{\u001b[39;00mdst_fold\u001b[38;5;132;01m}\u001b[39;00m\u001b[38;5;124m'\u001b[39m\u001b[38;5;124m on MinIO.\u001b[39m\u001b[38;5;124m\"\u001b[39m)\n\u001b[1;32m    181\u001b[0m \u001b[38;5;28;01mif\u001b[39;00m containing_folder:\n\u001b[1;32m    182\u001b[0m     dst_fold \u001b[38;5;241m=\u001b[39m os\u001b[38;5;241m.\u001b[39mpath\u001b[38;5;241m.\u001b[39mjoin(dst_bucket, dst_name, os\u001b[38;5;241m.\u001b[39mpath\u001b[38;5;241m.\u001b[39mbasename(src_fold))\n",
      "\u001b[0;31mOSError\u001b[0m: Could not identify destination '/home/notebook/cogs/Lab_Calibrations_Copy' on MinIO."
     ]
    }
   ],
   "source": [
    "# Establish the ancillary data paths\n",
    "import yaml\n",
    "import specim_process\n",
    "\n",
    "specim_mission_folder = mission_list[0]\n",
    "\n",
    "config_yaml = os.path.join(specim_mission_folder, \"config.seabee.yaml\")\n",
    "\n",
    "lab_calibration_path_local = os.path.join(temp_dir, \"lab-calibration\")\n",
    "\n",
    "\n",
    "# Example copy from/to MINIO works\n",
    "#sb.storage.copy_file('/home/notebook/shared-seabee-ns9879k/ntnu/specim_processing_data/configuration_specim.ini', \n",
    "#                      '/home/notebook/shared-seabee-ns9879k/ntnu/specim_processing_data/configuration_specim_copy.ini', minio_client, overwrite=False)\n",
    "#sb.storage.copy_folder('/home/notebook/shared-seabee-ns9879k/ntnu/specim_processing_data/Lab_Calibrations', \n",
    "#                       '/home/notebook/shared-seabee-ns9879k/ntnu/specim_processing_data/Lab_Calibrations_Copy', minio_client, overwrite=False)\n",
    "\n",
    "\n",
    "# Example copying from MINIO to local WS\n",
    "#sb.storage.copy_file('/home/notebook/shared-seabee-ns9879k/ntnu/specim_processing_data/configuration_specim.ini', \n",
    "#                     '/home/notebook/cogs/configuration_specim_copy.ini', minio_client, overwrite=False)\n",
    "\n",
    "sb.storage.copy_folder('/home/notebook/shared-seabee-ns9879k/ntnu/specim_processing_data/Lab_Calibrations', \n",
    "                       '/home/notebook/cogs/Lab_Calibrations_Copy', minio_client, overwrite=False)\n",
    "\n",
    "\n",
    "#specim_process.main(str(config_yaml), str(specim_mission_folder), geoid_path, config_template_path, lab_calibration_path)\n",
    "    \n",
    "\n",
    "    \n",
    "\n"
   ]
  },
  {
   "cell_type": "code",
   "execution_count": 17,
   "id": "8caf7e21-0db6-4a84-9169-a95ba522f034",
   "metadata": {},
   "outputs": [
    {
     "ename": "OSError",
     "evalue": "Could not identify destination '/home/notebook/config_specim.ini' on MinIO.",
     "output_type": "error",
     "traceback": [
      "\u001b[0;31m---------------------------------------------------------------------------\u001b[0m",
      "\u001b[0;31mOSError\u001b[0m                                   Traceback (most recent call last)",
      "Cell \u001b[0;32mIn [17], line 7\u001b[0m\n\u001b[1;32m      3\u001b[0m local_copy_config \u001b[38;5;241m=\u001b[39m os\u001b[38;5;241m.\u001b[39mpath\u001b[38;5;241m.\u001b[39mjoin(\u001b[38;5;124m'\u001b[39m\u001b[38;5;124m/home/notebook/config_specim.ini\u001b[39m\u001b[38;5;124m'\u001b[39m)\n\u001b[1;32m      6\u001b[0m \u001b[38;5;66;03m# Simple example:\u001b[39;00m\n\u001b[0;32m----> 7\u001b[0m \u001b[43msb\u001b[49m\u001b[38;5;241;43m.\u001b[39;49m\u001b[43mstorage\u001b[49m\u001b[38;5;241;43m.\u001b[39;49m\u001b[43mcopy_file\u001b[49m\u001b[43m(\u001b[49m\u001b[43mconfig_template_path\u001b[49m\u001b[43m,\u001b[49m\u001b[43m \u001b[49m\u001b[43mlocal_copy_config\u001b[49m\u001b[43m,\u001b[49m\u001b[43m \u001b[49m\u001b[43mminio_client\u001b[49m\u001b[43m,\u001b[49m\u001b[43m \u001b[49m\u001b[43moverwrite\u001b[49m\u001b[38;5;241;43m=\u001b[39;49m\u001b[38;5;28;43;01mFalse\u001b[39;49;00m\u001b[43m)\u001b[49m\n",
      "File \u001b[0;32m/opt/conda/lib/python3.10/site-packages/seabeepy/storage.py:81\u001b[0m, in \u001b[0;36mcopy_file\u001b[0;34m(src_path, dst_path, client, overwrite)\u001b[0m\n\u001b[1;32m     78\u001b[0m dst_bucket, dst_name \u001b[38;5;241m=\u001b[39m _jhub_path_to_minio(dst_path)\n\u001b[1;32m     80\u001b[0m \u001b[38;5;28;01mif\u001b[39;00m dst_bucket \u001b[38;5;129;01mis\u001b[39;00m \u001b[38;5;28;01mNone\u001b[39;00m:\n\u001b[0;32m---> 81\u001b[0m     \u001b[38;5;28;01mraise\u001b[39;00m \u001b[38;5;167;01mOSError\u001b[39;00m(\u001b[38;5;124mf\u001b[39m\u001b[38;5;124m\"\u001b[39m\u001b[38;5;124mCould not identify destination \u001b[39m\u001b[38;5;124m'\u001b[39m\u001b[38;5;132;01m{\u001b[39;00mdst_path\u001b[38;5;132;01m}\u001b[39;00m\u001b[38;5;124m'\u001b[39m\u001b[38;5;124m on MinIO.\u001b[39m\u001b[38;5;124m\"\u001b[39m)\n\u001b[1;32m     83\u001b[0m dst_path \u001b[38;5;241m=\u001b[39m os\u001b[38;5;241m.\u001b[39mpath\u001b[38;5;241m.\u001b[39mjoin(dst_bucket, dst_name)\n\u001b[1;32m     84\u001b[0m \u001b[38;5;28;01mif\u001b[39;00m client\u001b[38;5;241m.\u001b[39mexists(dst_path) \u001b[38;5;129;01mand\u001b[39;00m \u001b[38;5;129;01mnot\u001b[39;00m overwrite:\n",
      "\u001b[0;31mOSError\u001b[0m: Could not identify destination '/home/notebook/config_specim.ini' on MinIO."
     ]
    }
   ],
   "source": [
    "# We need tu unveil how to read write the data to and from storage\n",
    "\n",
    "local_copy_config = os.path.join('/home/notebook/config_specim.ini')\n",
    "\n",
    "\n",
    "# Simple example:\n",
    "sb.storage.copy_file(config_template_path, local_copy_config, minio_client, overwrite=False)\n",
    "\n",
    "\n"
   ]
  },
  {
   "cell_type": "code",
   "execution_count": null,
   "id": "bf2cf748-2313-49e9-b535-9f1b56abc48e",
   "metadata": {},
   "outputs": [],
   "source": [
    "import specim_process\n",
    "\n",
    "# Process missions\n",
    "for mission_fold in mission_list:\n",
    "    mission_name = mission_fold.name\n",
    "    print(f\"\\n################\\nProcessing: {mission_name}\")\n",
    "    conf_yaml = os.path.join(mission_fold, \"config.seabee.yaml\")\n",
    "    specim_process.main(conf_yaml, mission_fold)"
   ]
  },
  {
   "cell_type": "code",
   "execution_count": null,
   "id": "fbf538cb-a883-45ac-b225-c8fe22656b45",
   "metadata": {},
   "outputs": [],
   "source": []
  }
 ],
 "metadata": {
  "kernelspec": {
   "display_name": "Python 3 (ipykernel)",
   "language": "python",
   "name": "python3"
  },
  "language_info": {
   "codemirror_mode": {
    "name": "ipython",
    "version": 3
   },
   "file_extension": ".py",
   "mimetype": "text/x-python",
   "name": "python",
   "nbconvert_exporter": "python",
   "pygments_lexer": "ipython3",
   "version": "3.10.6"
  }
 },
 "nbformat": 4,
 "nbformat_minor": 5
}
