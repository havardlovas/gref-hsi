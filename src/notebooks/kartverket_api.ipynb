{
 "cells": [
  {
   "cell_type": "code",
   "execution_count": 10,
   "metadata": {},
   "outputs": [],
   "source": [
    "import urllib.request\n",
    "\n",
    "\n",
    "\n",
    "\n",
    "\n",
    "url_request = r\"https://api.sehavniva.no/tideapi.php?lat=58.974339&lon=5.730121&fromtime=2024-02-15T00%3A00&totime=2024-02-16T00%3A00&datatype=all&refcode=cd&place=&file=&lang=nn&interval=10&dst=0&tzone=&tide_request=locationdata\"\n",
    "\n",
    "with urllib.request.urlopen(url_request) as response:\n",
    "    with open('test_tide.xml', 'wb') as f:  # Open the file in binary write mode\n",
    "        f.write(response.read())  # Write the response content directly to the file\n"
   ]
  },
  {
   "cell_type": "code",
   "execution_count": 11,
   "metadata": {},
   "outputs": [
    {
     "name": "stdout",
     "output_type": "stream",
     "text": [
      "https://api.sehavniva.no/tideapi.php?lat=58.974339&lon=5.730121&fromtime=2024-02-15T00%3A00&totime=2024-02-16T00%3A00&datatype=all&refcode=cd&place=&file=&lang=nn&interval=10&dst=0&tzone=&tide_request=locationdata\n"
     ]
    }
   ],
   "source": [
    "def generate_url(lat, lon, fromtime, totime, datatype='all', refcode='cd', place='', file='', lang='nn', interval=10, dst=0, tzone='', tide_request='locationdata'):\n",
    "    base_url = \"https://api.sehavniva.no/tideapi.php?\"\n",
    "    url_options = {\n",
    "        'lat': lat,\n",
    "        'lon': lon,\n",
    "        'fromtime': fromtime,\n",
    "        'totime': totime,\n",
    "        'datatype': datatype,\n",
    "        'refcode': refcode,\n",
    "        'place': place,\n",
    "        'file': file,\n",
    "        'lang': lang,\n",
    "        'interval': interval,\n",
    "        'dst': dst,\n",
    "        'tzone': tzone,\n",
    "        'tide_request': tide_request\n",
    "    }\n",
    "    url_params = urllib.parse.urlencode(url_options)\n",
    "    return base_url + url_params\n",
    "\n",
    "# Example usage\n",
    "lat = 58.974339\n",
    "lon = 5.730121\n",
    "fromtime = '2024-02-15T00:00'\n",
    "totime = '2024-02-16T00:00'\n",
    "\n",
    "url_request = generate_url(lat, lon, fromtime, totime)\n",
    "print(url_request)"
   ]
  },
  {
   "cell_type": "code",
   "execution_count": 18,
   "metadata": {},
   "outputs": [],
   "source": [
    "url_request = r\"https://ws.geonorge.no/hoydedata/v1/?service=WPS&request=getcapabilities&lon=8|10&lat=62|64&zonly=true&elevationChart\"\n",
    "\n",
    "\n",
    "url_request = r\"https://ws.geonorge.no/hoydedata/v1/?\"\n",
    "\n",
    "with urllib.request.urlopen(url_request) as response:\n",
    "    with open('test_terrain.xml', 'wb') as f:  # Open the file in binary write mode\n",
    "        f.write(response.read())  # Write the response content directly to the file"
   ]
  }
 ],
 "metadata": {
  "kernelspec": {
   "display_name": "Python 3",
   "language": "python",
   "name": "python3"
  },
  "language_info": {
   "codemirror_mode": {
    "name": "ipython",
    "version": 3
   },
   "file_extension": ".py",
   "mimetype": "text/x-python",
   "name": "python",
   "nbconvert_exporter": "python",
   "pygments_lexer": "ipython3",
   "version": "3.8.18"
  }
 },
 "nbformat": 4,
 "nbformat_minor": 2
}
